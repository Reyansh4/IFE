{
  "cells": [
    {
      "cell_type": "code",
      "execution_count": 2,
      "metadata": {
        "id": "X8dUJfSqmh6_"
      },
      "outputs": [],
      "source": [
        "import pandas as pd\n",
        "import numpy as np\n",
        "import matplotlib.pyplot as plt\n",
        "from scipy.optimize import minimize\n",
        "import cvxpy as cp"
      ]
    },
    {
      "cell_type": "code",
      "execution_count": 3,
      "metadata": {
        "id": "RU19S35bmwla"
      },
      "outputs": [],
      "source": [
        "btc = pd.read_csv('BTC-USD.csv', nrows = 59)\n",
        "vf_idea = pd.read_csv('IDEA.NS.csv', nrows = 59)\n",
        "polygon = pd.read_csv('MATIC-INR.csv', nrows = 59)\n",
        "minda = pd.read_csv('MINDACORP.NS.csv', nrows = 59)\n",
        "moderna = pd.read_csv('MRNA.csv', nrows = 59)\n",
        "nippon = pd.read_csv('NIFTYBEES.NS.csv', nrows = 59)\n",
        "pidilite = pd.read_csv('PIDILITIND.NS.csv', nrows = 59)\n",
        "invesco = pd.read_csv('QQQ.csv', nrows = 59)\n",
        "spdr = pd.read_csv('SPY.csv', nrows = 59)\n",
        "tesla = pd.read_csv('TSLA.csv', nrows = 59)"
      ]
    },
    {
      "cell_type": "code",
      "execution_count": 4,
      "metadata": {
        "id": "utpn-TFcq8pU"
      },
      "outputs": [],
      "source": [
        "btc['Date'] = pd.to_datetime(btc['Date'])\n",
        "vf_idea['Date'] = pd.to_datetime(vf_idea['Date'])\n",
        "polygon['Date'] = pd.to_datetime(polygon['Date'])\n",
        "minda['Date'] = pd.to_datetime(minda['Date'])\n",
        "moderna['Date'] = pd.to_datetime(moderna['Date'])\n",
        "nippon['Date'] = pd.to_datetime(nippon['Date'])\n",
        "pidilite['Date'] = pd.to_datetime(pidilite['Date'])\n",
        "invesco['Date'] = pd.to_datetime(invesco['Date'])\n",
        "spdr['Date'] = pd.to_datetime(spdr['Date'])\n",
        "tesla['Date'] = pd.to_datetime(tesla['Date'])"
      ]
    },
    {
      "cell_type": "code",
      "execution_count": 5,
      "metadata": {
        "id": "7QElw162m1Eu"
      },
      "outputs": [],
      "source": [
        "closing_prices = pd.DataFrame({\n",
        "    'BTC': btc['Close'],\n",
        "    'VF_IDEA': vf_idea['Close'],\n",
        "    'Polygon': polygon['Close'],\n",
        "    'Minda': minda['Close'],\n",
        "    'Moderna': moderna['Close'],\n",
        "    'Nippon': nippon['Close'],\n",
        "    'Pidilite': pidilite['Close'],\n",
        "    'Invesco': invesco['Close'],\n",
        "    'SPDR': spdr['Close'],\n",
        "    'Tesla': tesla['Close']\n",
        "})"
      ]
    },
    {
      "cell_type": "code",
      "execution_count": 6,
      "metadata": {
        "id": "BZFB0aQUm5Hg"
      },
      "outputs": [],
      "source": [
        "log_returns = np.log(closing_prices / closing_prices.shift(1))"
      ]
    },
    {
      "cell_type": "code",
      "execution_count": 7,
      "metadata": {
        "id": "5nglgiZMnAFP"
      },
      "outputs": [],
      "source": [
        "log_returns = log_returns.drop(log_returns.index[0])"
      ]
    },
    {
      "cell_type": "code",
      "execution_count": 8,
      "metadata": {
        "colab": {
          "base_uri": "https://localhost:8080/"
        },
        "id": "fqBH-tQTpKHO",
        "outputId": "93a05857-3097-4df1-8452-cc2030f8d925"
      },
      "outputs": [
        {
          "name": "stdout",
          "output_type": "stream",
          "text": [
            "BTC         0.004191\n",
            "VF_IDEA     0.005699\n",
            "Polygon     0.004660\n",
            "Minda       0.003221\n",
            "Moderna     0.004508\n",
            "Nippon      0.002001\n",
            "Pidilite    0.002720\n",
            "Invesco     0.003175\n",
            "SPDR        0.002490\n",
            "Tesla      -0.000019\n",
            "dtype: float64\n"
          ]
        }
      ],
      "source": [
        "mean_returns = log_returns.mean()\n",
        "print(mean_returns)"
      ]
    },
    {
      "cell_type": "code",
      "execution_count": 9,
      "metadata": {
        "colab": {
          "base_uri": "https://localhost:8080/"
        },
        "id": "aP6sp_vEpeeD",
        "outputId": "5786d231-50f7-4ee9-95fe-c0575d28d57d"
      },
      "outputs": [
        {
          "name": "stdout",
          "output_type": "stream",
          "text": [
            "BTC         0.018211\n",
            "VF_IDEA     0.024760\n",
            "Polygon     0.020247\n",
            "Minda       0.013994\n",
            "Moderna     0.019588\n",
            "Nippon      0.008696\n",
            "Pidilite    0.011819\n",
            "Invesco     0.013795\n",
            "SPDR        0.010819\n",
            "Tesla      -0.000081\n",
            "dtype: float64\n"
          ]
        }
      ],
      "source": [
        "mean_returns = log_returns.mean()\n",
        "number_of_trading_days = len(log_returns)\n",
        "mean_returns_annualized = mean_returns * (252 / number_of_trading_days)\n",
        "print(mean_returns_annualized)"
      ]
    },
    {
      "cell_type": "code",
      "execution_count": 10,
      "metadata": {
        "colab": {
          "base_uri": "https://localhost:8080/"
        },
        "id": "mhUtBCKdqR0A",
        "outputId": "341d1c22-3997-42fc-dc5f-f2378ac47b36"
      },
      "outputs": [
        {
          "name": "stdout",
          "output_type": "stream",
          "text": [
            "Covariance Matrix:\n",
            "               BTC   VF_IDEA   Polygon     Minda   Moderna    Nippon  \\\n",
            "BTC       0.000499  0.000042 -0.000082 -0.000113  0.000196  0.000016   \n",
            "VF_IDEA   0.000042  0.001522  0.000126 -0.000143 -0.000210  0.000043   \n",
            "Polygon  -0.000082  0.000126  0.001666  0.000021 -0.000093 -0.000073   \n",
            "Minda    -0.000113 -0.000143  0.000021  0.000531  0.000008 -0.000013   \n",
            "Moderna   0.000196 -0.000210 -0.000093  0.000008  0.001313  0.000001   \n",
            "Nippon    0.000016  0.000043 -0.000073 -0.000013  0.000001  0.000045   \n",
            "Pidilite -0.000013  0.000087 -0.000045  0.000006  0.000060  0.000015   \n",
            "Invesco   0.000031  0.000030 -0.000015 -0.000026  0.000027  0.000002   \n",
            "SPDR      0.000035  0.000028 -0.000005 -0.000019  0.000060  0.000004   \n",
            "Tesla     0.000101 -0.000051  0.000018  0.000015  0.000259  0.000037   \n",
            "\n",
            "          Pidilite   Invesco      SPDR     Tesla  \n",
            "BTC      -0.000013  0.000031  0.000035  0.000101  \n",
            "VF_IDEA   0.000087  0.000030  0.000028 -0.000051  \n",
            "Polygon  -0.000045 -0.000015 -0.000005  0.000018  \n",
            "Minda     0.000006 -0.000026 -0.000019  0.000015  \n",
            "Moderna   0.000060  0.000027  0.000060  0.000259  \n",
            "Nippon    0.000015  0.000002  0.000004  0.000037  \n",
            "Pidilite  0.000169  0.000002  0.000007  0.000020  \n",
            "Invesco   0.000002  0.000082  0.000058  0.000102  \n",
            "SPDR      0.000007  0.000058  0.000048  0.000086  \n",
            "Tesla     0.000020  0.000102  0.000086  0.000645  \n"
          ]
        }
      ],
      "source": [
        "covariance_matrix = log_returns.cov()\n",
        "\n",
        "print(\"Covariance Matrix:\")\n",
        "print(covariance_matrix)"
      ]
    },
    {
      "cell_type": "code",
      "execution_count": 11,
      "metadata": {
        "id": "VLoew4cWzqxb"
      },
      "outputs": [],
      "source": [
        "n_assets = 10"
      ]
    },
    {
      "cell_type": "code",
      "execution_count": 12,
      "metadata": {
        "colab": {
          "base_uri": "https://localhost:8080/"
        },
        "id": "SpMWHgBY1uEh",
        "outputId": "ed1a7812-c2ba-40cd-bc14-f5b06b67f65a"
      },
      "outputs": [
        {
          "name": "stdout",
          "output_type": "stream",
          "text": [
            "Optimal Weights:\n",
            "[ 2.08087220e-02 -3.74680689e-18  3.43683898e-02  6.31879182e-02\n",
            "  8.12451493e-18  4.43046233e-01  7.15349929e-02  1.34461948e-18\n",
            "  3.67053744e-01  1.42966248e-19]\n",
            "Portfolio Return: 1.06% Portfolio Risk: 0.443%\n"
          ]
        }
      ],
      "source": [
        "weights = cp.Variable(n_assets)\n",
        "target_return = cp.Parameter()\n",
        "\n",
        "constraints = [\n",
        "    cp.sum(weights) == 1,\n",
        "    weights >= 0\n",
        "]\n",
        "\n",
        "portfolio_risk = cp.quad_form(weights, covariance_matrix.values)\n",
        "objective = cp.Minimize(portfolio_risk)\n",
        "problem = cp.Problem(objective, constraints)\n",
        "\n",
        "problem.solve()\n",
        "\n",
        "optimal_weights = weights.value\n",
        "\n",
        "portfolio_return = np.dot(mean_returns_annualized, optimal_weights)\n",
        "portfolio_risk_percentage = np.sqrt(portfolio_risk.value) * 100\n",
        "\n",
        "print(\"Optimal Weights:\")\n",
        "print(optimal_weights)\n",
        "print(\"Portfolio Return: %.2f%%\" % (portfolio_return * 100), \"Portfolio Risk: %.3f%%\" % portfolio_risk_percentage)"
      ]
    },
    {
      "cell_type": "code",
      "execution_count": 13,
      "metadata": {
        "id": "UFs8knHn8Q63"
      },
      "outputs": [],
      "source": [
        "constraints = [\n",
        "    cp.sum(weights) == 1,\n",
        "    weights >= 0\n",
        "]\n",
        "\n",
        "portfolio_risk = cp.quad_form(weights, covariance_matrix.values)\n",
        "objective = cp.Minimize(portfolio_risk)"
      ]
    },
    {
      "cell_type": "code",
      "execution_count": 14,
      "metadata": {
        "colab": {
          "base_uri": "https://localhost:8080/"
        },
        "id": "-oBXHd9p9EN5",
        "outputId": "64d734f2-cd4f-4b07-d8a0-47fba112f46e"
      },
      "outputs": [
        {
          "name": "stdout",
          "output_type": "stream",
          "text": [
            "Optimal Weights:\n",
            "[ 2.08087220e-02 -3.74680689e-18  3.43683898e-02  6.31879182e-02\n",
            "  8.12451493e-18  4.43046233e-01  7.15349929e-02  1.34461948e-18\n",
            "  3.67053744e-01  1.42966248e-19]\n",
            "Portfolio Return: 1.06% Portfolio Risk: 0.443%\n"
          ]
        }
      ],
      "source": [
        "problem = cp.Problem(objective, constraints)\n",
        "problem.solve()\n",
        "\n",
        "optimal_weights = weights.value\n",
        "portfolio_return = np.dot(mean_returns_annualized, optimal_weights)\n",
        "portfolio_risk_percentage = np.sqrt(portfolio_risk.value) * 100\n",
        "\n",
        "print(\"Optimal Weights:\")\n",
        "print(optimal_weights)\n",
        "print(\"Portfolio Return: %.2f%%\" % (portfolio_return * 100), \"Portfolio Risk: %.3f%%\" % portfolio_risk_percentage)"
      ]
    },
    {
      "cell_type": "code",
      "execution_count": 15,
      "metadata": {
        "id": "JJzCFndP47u2"
      },
      "outputs": [],
      "source": [
        "num_ports = 100"
      ]
    },
    {
      "cell_type": "code",
      "execution_count": 16,
      "metadata": {
        "colab": {
          "base_uri": "https://localhost:8080/",
          "height": 753
        },
        "id": "0upDuNK39P3J",
        "outputId": "62ac1f20-57b1-4c6a-895d-08a0c866e5fe"
      },
      "outputs": [
        {
          "name": "stderr",
          "output_type": "stream",
          "text": [
            "C:\\Users\\rahul\\AppData\\Local\\Temp\\ipykernel_17884\\1111606493.py:25: UserWarning: No data for colormapping provided via 'c'. Parameters 'cmap' will be ignored\n",
            "  plt.scatter(efficient_frontier_volatilities_low_risk, efficient_frontier_returns, marker='o', cmap='viridis', label='Efficient Frontier')\n"
          ]
        },
        {
          "data": {
            "image/png": "[encoded data removed]",
            "text/plain": [
              "<Figure size 1200x800 with 1 Axes>"
            ]
          },
          "metadata": {},
          "output_type": "display_data"
        }
      ],
      "source": [
        "result = problem.solve()\n",
        "\n",
        "min_risk_portfolio_return = np.sum(mean_returns_annualized * optimal_weights)\n",
        "\n",
        "efficient_frontier_returns = np.linspace(min_risk_portfolio_return, np.amax(mean_returns_annualized), num_ports)\n",
        "efficient_frontier_volatilities_low_risk = []\n",
        "efficient_frontier_volatilities_high_risk = []\n",
        "\n",
        "for ret in efficient_frontier_returns:\n",
        "    target_return.value = ret\n",
        "\n",
        "    problem_with_target_return_low = cp.Problem(objective, constraints + [cp.sum(cp.multiply(weights, mean_returns_annualized)) == target_return])\n",
        "    problem_with_target_return_high = cp.Problem(objective, constraints + [cp.sum(cp.multiply(weights, mean_returns_annualized)) == target_return])\n",
        "\n",
        "    problem_with_target_return_low.solve()\n",
        "    weights_low_risk = weights.value\n",
        "    efficient_frontier_volatilities_low_risk.append(np.sqrt(portfolio_risk.value))\n",
        "\n",
        "    problem_with_target_return_high.solve()\n",
        "    weights_high_risk = weights.value\n",
        "    efficient_frontier_volatilities_high_risk.append(np.sqrt(portfolio_risk.value))\n",
        "\n",
        "# Plot Efficient Frontier\n",
        "plt.figure(figsize=(12, 8))\n",
        "plt.scatter(efficient_frontier_volatilities_low_risk, efficient_frontier_returns, marker='o', cmap='viridis', label='Efficient Frontier')\n",
        "plt.xlabel('Volatility (Risk)')\n",
        "plt.ylabel('Return')\n",
        "plt.title('Efficient Frontier')\n",
        "plt.legend()\n",
        "plt.show()\n"
      ]
    },
    {
      "cell_type": "code",
      "execution_count": 17,
      "metadata": {
        "colab": {
          "base_uri": "https://localhost:8080/"
        },
        "id": "R8OsKjIy9WdL",
        "outputId": "faed0ac3-4ce6-4ce2-bebd-e98bca338222"
      },
      "outputs": [
        {
          "name": "stdout",
          "output_type": "stream",
          "text": [
            "Optimal Weights for Low Risk Level (0.1 Risk):\n",
            "[ 1.10654545e-01  5.21397968e-02  5.54515948e-02  1.22724220e-01\n",
            "  3.21790705e-02  1.34914158e-01  1.04293200e-01  3.87643415e-01\n",
            " -2.57313397e-18  2.65110441e-18]\n",
            "Optimal Weights for High Risk Level (0.3 Risk):\n",
            "[5.49394412e-02 5.25406842e-01 1.56940494e-01 1.72663015e-20\n",
            " 2.62713222e-01 3.47316476e-20 2.48653096e-20 2.07162842e-20\n",
            " 2.80266929e-20 5.37578798e-20]\n"
          ]
        }
      ],
      "source": [
        "# Target Risks and Returns\n",
        "target_risk_low = 0.1\n",
        "target_risk_high = 0.3\n",
        "\n",
        "target_return_low = min_risk_portfolio_return + target_risk_low * np.sqrt(portfolio_risk.value)\n",
        "target_return_high = min_risk_portfolio_return + target_risk_high * np.sqrt(portfolio_risk.value)\n",
        "\n",
        "target_return.value = target_return_low\n",
        "problem_with_target_return_low = cp.Problem(objective, constraints + [cp.sum(cp.multiply(weights, mean_returns_annualized)) == target_return])\n",
        "problem_with_target_return_low.solve()\n",
        "weights_low_risk_chosen = weights.value\n",
        "\n",
        "target_return.value = target_return_high\n",
        "problem_with_target_return_high = cp.Problem(objective, constraints + [cp.sum(cp.multiply(weights, mean_returns_annualized)) == target_return])\n",
        "problem_with_target_return_high.solve()\n",
        "weights_high_risk_chosen = weights.value\n",
        "\n",
        "print(\"Optimal Weights for Low Risk Level (0.1 Risk):\")\n",
        "print(weights_low_risk_chosen)\n",
        "print(\"Optimal Weights for High Risk Level (0.3 Risk):\")\n",
        "print(weights_high_risk_chosen)"
      ]
    }
  ],
  "metadata": {
    "colab": {
      "provenance": []
    },
    "kernelspec": {
      "display_name": "Python 3",
      "name": "python3"
    },
    "language_info": {
      "codemirror_mode": {
        "name": "ipython",
        "version": 3
      },
      "file_extension": ".py",
      "mimetype": "text/x-python",
      "name": "python",
      "nbconvert_exporter": "python",
      "pygments_lexer": "ipython3",
      "version": "3.11.0"
    }
  },
  "nbformat": 4,
  "nbformat_minor": 0
}
