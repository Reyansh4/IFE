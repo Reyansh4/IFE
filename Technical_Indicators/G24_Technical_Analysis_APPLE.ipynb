{
  "nbformat": 4,
  "nbformat_minor": 0,
  "metadata": {
    "colab": {
      "provenance": []
    },
    "kernelspec": {
      "name": "python3",
      "display_name": "Python 3"
    },
    "language_info": {
      "name": "python"
    }
  },
  "cells": [
    {
      "cell_type": "code",
      "execution_count": 3,
      "metadata": {
        "colab": {
          "base_uri": "https://localhost:8080/"
        },
        "id": "RysZCRMm0kaf",
        "outputId": "eec48ecf-8676-4bf3-c45e-152daa38224f"
      },
      "outputs": [
        {
          "output_type": "stream",
          "name": "stdout",
          "text": [
            "Accuracy of Prediction: 50.64%\n"
          ]
        }
      ],
      "source": [
        "import pandas as pd\n",
        "import numpy as np\n",
        "from sklearn.preprocessing import StandardScaler\n",
        "\n",
        "# Step 2: Gather closing prices for the last 3 years\n",
        "file_path = '/content/HistoricalData_1706021650642.csv'  # Replace with your file path\n",
        "data = pd.read_csv(file_path, parse_dates=['Date'])\n",
        "data.set_index('Date', inplace=True)\n",
        "\n",
        "# Step 3: Pick at least 4 technical indicators\n",
        "data['MA'] = data['Close'].rolling(window=14).mean()\n",
        "data['RSI'] = 100 - (100 / (1 + (data['Close'].diff(1).apply(lambda x: 0 if x == 0 else max(0, x))).rolling(window=14).mean() /\n",
        "                             (data['Close'].diff(1).apply(lambda x: 0 if x == 0 else abs(x))).rolling(window=14).mean()))\n",
        "std = data['Close'].rolling(window=20).std()\n",
        "data['Upper'] = data['MA'] + 2 * std\n",
        "data['Lower'] = data['MA'] - 2 * std\n",
        "\n",
        "data['EMA12'] = data['Close'].ewm(span=12, adjust=False).mean()\n",
        "data['EMA26'] = data['Close'].ewm(span=26, adjust=False).mean()\n",
        "data['MACD'] = data['EMA12'] - data['EMA26']\n",
        "\n",
        "# Step 4: Perform Correlation analysis\n",
        "correlation_matrix = data[['MA', 'RSI', 'Upper', 'Lower', 'MACD']].corr()\n",
        "\n",
        "# Step 5: Come up with a combined indicator\n",
        "scaler = StandardScaler()\n",
        "scaled_data = scaler.fit_transform(data[['MA', 'RSI', 'Upper', 'Lower', 'MACD']])\n",
        "weights = correlation_matrix.sum().sort_values(ascending=False)\n",
        "data['Combined_Indicator'] = np.dot(scaled_data, weights.values) / weights.sum()\n",
        "\n",
        "# Step 6: Methodology to predict bullish and bearish positions\n",
        "threshold = data['Combined_Indicator'].mean()\n",
        "data['Signal'] = np.where(data['Combined_Indicator'] > threshold, 'Bullish', 'Bearish')\n",
        "\n",
        "# Step 7: Report the accuracy of prediction\n",
        "data['Actual_Position'] = np.where(data['Close'].shift(-1) > data['Close'], 'Bullish', 'Bearish')\n",
        "accuracy = np.mean(data['Signal'] == data['Actual_Position'])\n",
        "print(f'Accuracy of Prediction: {accuracy * 100:.2f}%')\n",
        "\n",
        "# Save the results to a new CSV file\n",
        "data.to_csv('financial_analysis_results.csv')\n"
      ]
    },
    {
      "cell_type": "code",
      "source": [
        "import pandas as pd\n",
        "import numpy as np\n",
        "from sklearn.preprocessing import StandardScaler\n",
        "\n",
        "# Step 2: Gather closing prices for the last 3 years\n",
        "file_path = '/content/HistoricalData_1706021650642.csv'  # Replace with your file path\n",
        "data = pd.read_csv(file_path, parse_dates=['Date'])\n",
        "data.set_index('Date', inplace=True)\n",
        "\n",
        "# Convert 'Close' column to numeric by removing the dollar sign ('$') and converting to float\n",
        "data['Close'] = data['Close'].replace('[\\$,]', '', regex=True).astype(float)\n",
        "\n",
        "# Step 3: Pick at least 4 technical indicators\n",
        "data['MA'] = data['Close'].rolling(window=14).mean()\n",
        "data['RSI'] = 100 - (100 / (1 + (data['Close'].diff(1).apply(lambda x: 0 if x == 0 else max(0, x))).rolling(window=14).mean() /\n",
        "                             (data['Close'].diff(1).apply(lambda x: 0 if x == 0 else abs(x))).rolling(window=14).mean()))\n",
        "std = data['Close'].rolling(window=20).std()\n",
        "data['Upper'] = data['MA'] + 2 * std\n",
        "data['Lower'] = data['MA'] - 2 * std\n",
        "\n",
        "data['EMA12'] = data['Close'].ewm(span=12, adjust=False).mean()\n",
        "data['EMA26'] = data['Close'].ewm(span=26, adjust=False).mean()\n",
        "data['MACD'] = data['EMA12'] - data['EMA26']\n",
        "\n",
        "# Step 4: Perform Correlation analysis\n",
        "correlation_matrix = data[['MA', 'RSI', 'Upper', 'Lower', 'MACD']].corr()\n",
        "\n",
        "# Step 5: Come up with a combined indicator\n",
        "scaler = StandardScaler()\n",
        "scaled_data = scaler.fit_transform(data[['MA', 'RSI', 'Upper', 'Lower', 'MACD']])\n",
        "weights = correlation_matrix.sum().sort_values(ascending=False)\n",
        "data['Combined_Indicator'] = np.dot(scaled_data, weights.values) / weights.sum()\n",
        "\n",
        "# Step 6: Methodology to predict bullish and bearish positions\n",
        "threshold = data['Combined_Indicator'].mean()\n",
        "data['Signal'] = np.where(data['Combined_Indicator'] > threshold, 'L', 'S')\n",
        "\n",
        "# Step 7: Report the accuracy of prediction\n",
        "data['Actual_Position'] = np.where(data['Close'].shift(-1) > data['Close'], 'L', 'S')\n",
        "accuracy = np.mean(data['Signal'] == data['Actual_Position'])\n",
        "print(f'Accuracy of Prediction: {accuracy * 100:.2f}%')\n",
        "\n",
        "# Save the updated DataFrame to a new CSV file\n",
        "data.to_csv('financial_analysis_results_with_predictions.csv')\n"
      ],
      "metadata": {
        "colab": {
          "base_uri": "https://localhost:8080/"
        },
        "id": "1rGhXvBf1wsG",
        "outputId": "5abbb001-d827-42f7-95f6-15812f4f0221"
      },
      "execution_count": 4,
      "outputs": [
        {
          "output_type": "stream",
          "name": "stdout",
          "text": [
            "Accuracy of Prediction: 50.64%\n"
          ]
        }
      ]
    }
  ]
}